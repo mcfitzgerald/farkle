{
 "cells": [
  {
   "cell_type": "code",
   "execution_count": 1,
   "id": "operating-british",
   "metadata": {},
   "outputs": [],
   "source": [
    "import sys"
   ]
  },
  {
   "cell_type": "code",
   "execution_count": 2,
   "id": "liberal-patio",
   "metadata": {},
   "outputs": [],
   "source": [
    "sys.path.append('/Users/michael/Documents/GitHub/farkle')"
   ]
  },
  {
   "cell_type": "code",
   "execution_count": 3,
   "id": "velvet-message",
   "metadata": {},
   "outputs": [],
   "source": [
    "from farkle_sim import analyze_roll"
   ]
  },
  {
   "cell_type": "code",
   "execution_count": 4,
   "id": "organizational-gentleman",
   "metadata": {},
   "outputs": [],
   "source": [
    "import numpy as np"
   ]
  },
  {
   "cell_type": "code",
   "execution_count": 5,
   "id": "hydraulic-ghana",
   "metadata": {},
   "outputs": [],
   "source": [
    "roll = np.array([1, 1, 1, 5, 5, 5])"
   ]
  },
  {
   "cell_type": "code",
   "execution_count": 6,
   "id": "connected-ontario",
   "metadata": {},
   "outputs": [
    {
     "data": {
      "text/plain": [
       "{'one': 3,\n",
       " 'five': 3,\n",
       " 'three-ones': True,\n",
       " 'three-twos': False,\n",
       " 'three-threes': False,\n",
       " 'three-fours': False,\n",
       " 'three-fives': True,\n",
       " 'three-sixes': False,\n",
       " 'four-of-a-kind': False,\n",
       " 'five-of-a-kind': False,\n",
       " 'six-of-a-kind': False,\n",
       " 'straight': False,\n",
       " 'three-pairs': False,\n",
       " 'four-and-pair': False,\n",
       " 'triplets': True}"
      ]
     },
     "execution_count": 6,
     "metadata": {},
     "output_type": "execute_result"
    }
   ],
   "source": [
    "analyze_roll.get_scorable(roll)"
   ]
  },
  {
   "cell_type": "code",
   "execution_count": 7,
   "id": "technological-headquarters",
   "metadata": {},
   "outputs": [],
   "source": [
    "import configparser"
   ]
  },
  {
   "cell_type": "code",
   "execution_count": 8,
   "id": "possible-allen",
   "metadata": {},
   "outputs": [],
   "source": [
    "config = configparser.ConfigParser()"
   ]
  },
  {
   "cell_type": "code",
   "execution_count": 9,
   "id": "future-tokyo",
   "metadata": {},
   "outputs": [
    {
     "data": {
      "text/plain": [
       "[]"
      ]
     },
     "execution_count": 9,
     "metadata": {},
     "output_type": "execute_result"
    }
   ],
   "source": [
    "config.sections()"
   ]
  },
  {
   "cell_type": "code",
   "execution_count": 10,
   "id": "demographic-found",
   "metadata": {},
   "outputs": [
    {
     "data": {
      "text/plain": [
       "['../config/scoring_rules.config']"
      ]
     },
     "execution_count": 10,
     "metadata": {},
     "output_type": "execute_result"
    }
   ],
   "source": [
    "config.read('../config/scoring_rules.config')"
   ]
  },
  {
   "cell_type": "code",
   "execution_count": 11,
   "id": "protecting-rider",
   "metadata": {},
   "outputs": [],
   "source": [
    "point_dict = {}\n",
    "for i in config.options('POINTS'):\n",
    "    point_dict[i] = int(config['POINTS'][i])"
   ]
  },
  {
   "cell_type": "code",
   "execution_count": 12,
   "id": "looking-closer",
   "metadata": {},
   "outputs": [
    {
     "data": {
      "text/plain": [
       "{'one': 100,\n",
       " 'five': 50,\n",
       " 'three-ones': 1000,\n",
       " 'three-twos': 200,\n",
       " 'three-threes': 300,\n",
       " 'three-fours': 400,\n",
       " 'three-fives': 500,\n",
       " 'three-sixes': 600,\n",
       " 'four-of-a-kind': 1000,\n",
       " 'five-of-a-kind': 2000,\n",
       " 'six-of-a-kind': 3000,\n",
       " 'straight': 1500,\n",
       " 'three-pairs': 1500,\n",
       " 'four-and-pair': 1500,\n",
       " 'triplets': 2500}"
      ]
     },
     "execution_count": 12,
     "metadata": {},
     "output_type": "execute_result"
    }
   ],
   "source": [
    "point_dict"
   ]
  },
  {
   "cell_type": "code",
   "execution_count": 13,
   "id": "contained-pregnancy",
   "metadata": {},
   "outputs": [],
   "source": [
    "p_dict = {i : int(config['POINTS'][i]) for i in config.options('POINTS')}"
   ]
  },
  {
   "cell_type": "code",
   "execution_count": 14,
   "id": "extraordinary-boating",
   "metadata": {},
   "outputs": [
    {
     "data": {
      "text/plain": [
       "{'one': 100,\n",
       " 'five': 50,\n",
       " 'three-ones': 1000,\n",
       " 'three-twos': 200,\n",
       " 'three-threes': 300,\n",
       " 'three-fours': 400,\n",
       " 'three-fives': 500,\n",
       " 'three-sixes': 600,\n",
       " 'four-of-a-kind': 1000,\n",
       " 'five-of-a-kind': 2000,\n",
       " 'six-of-a-kind': 3000,\n",
       " 'straight': 1500,\n",
       " 'three-pairs': 1500,\n",
       " 'four-and-pair': 1500,\n",
       " 'triplets': 2500}"
      ]
     },
     "execution_count": 14,
     "metadata": {},
     "output_type": "execute_result"
    }
   ],
   "source": [
    "p_dict"
   ]
  },
  {
   "cell_type": "code",
   "execution_count": 15,
   "id": "everyday-commitment",
   "metadata": {},
   "outputs": [],
   "source": [
    "roll = np.array([1,1,1,5,5,5])"
   ]
  },
  {
   "cell_type": "code",
   "execution_count": 16,
   "id": "initial-bathroom",
   "metadata": {},
   "outputs": [],
   "source": [
    "ar = analyze_roll.get_scorable(roll)"
   ]
  },
  {
   "cell_type": "code",
   "execution_count": 17,
   "id": "nervous-smooth",
   "metadata": {},
   "outputs": [
    {
     "data": {
      "text/plain": [
       "numpy.bool_"
      ]
     },
     "execution_count": 17,
     "metadata": {},
     "output_type": "execute_result"
    }
   ],
   "source": [
    "type(ar['triplets'])"
   ]
  },
  {
   "cell_type": "code",
   "execution_count": 18,
   "id": "foreign-truth",
   "metadata": {},
   "outputs": [],
   "source": [
    "possible_scores = []\n",
    "for key in ar:\n",
    "    if type(ar.get(key)) is np.bool_:\n",
    "        if ar.get(key) == True:\n",
    "            possible_scores.append(int(p_dict[key]))\n",
    "if ar['one'] > 0:\n",
    "    possible_scores.append(ar['one']*100)\n",
    "if ar['five'] > 0:\n",
    "    possible_scores.append(ar['five']*50)"
   ]
  },
  {
   "cell_type": "code",
   "execution_count": 19,
   "id": "growing-fault",
   "metadata": {},
   "outputs": [
    {
     "name": "stdout",
     "output_type": "stream",
     "text": [
      "[1000, 500, 2500, 300, 150] 2500\n"
     ]
    }
   ],
   "source": [
    "print(possible_scores, max(possible_scores))"
   ]
  },
  {
   "cell_type": "code",
   "execution_count": 20,
   "id": "polar-cholesterol",
   "metadata": {},
   "outputs": [
    {
     "data": {
      "text/plain": [
       "3"
      ]
     },
     "execution_count": 20,
     "metadata": {},
     "output_type": "execute_result"
    }
   ],
   "source": [
    "ar.get('one')"
   ]
  },
  {
   "cell_type": "code",
   "execution_count": 21,
   "id": "intensive-thriller",
   "metadata": {},
   "outputs": [],
   "source": [
    "dice_count = {\n",
    "    'three-ones': 3,\n",
    "    'three-twos': 3,\n",
    "    'three-threes': 3,\n",
    "    'three-fours': 3,\n",
    "    'three-fives': 3,\n",
    "    'three-sixes': 3,\n",
    "    'four-of-a-kind': 4,\n",
    "    'five-of-a-kind': 5,\n",
    "    'six-of-a-kind': 6,\n",
    "    'straight': 6,\n",
    "    'three-pairs': 6,\n",
    "    'four-and-pair': 6,\n",
    "    'triplets': 6}"
   ]
  },
  {
   "cell_type": "code",
   "execution_count": 22,
   "id": "removed-twins",
   "metadata": {},
   "outputs": [],
   "source": [
    "t = []"
   ]
  },
  {
   "cell_type": "code",
   "execution_count": 23,
   "id": "antique-programmer",
   "metadata": {},
   "outputs": [
    {
     "data": {
      "text/plain": [
       "0"
      ]
     },
     "execution_count": 23,
     "metadata": {},
     "output_type": "execute_result"
    }
   ],
   "source": [
    "len(t)"
   ]
  },
  {
   "cell_type": "code",
   "execution_count": 24,
   "id": "deadly-usage",
   "metadata": {},
   "outputs": [],
   "source": [
    "def gather_combos(analyzed_roll):\n",
    "    three_combo_keys = [\n",
    "        \"three-ones\",\n",
    "        \"three-twos\",\n",
    "        \"three-threes\",\n",
    "        \"three-fours\",\n",
    "        \"three-fives\",\n",
    "        \"three-sixes\",\n",
    "    ]\n",
    "    \n",
    "    hi_combo_keys = [\n",
    "        \"four-of-a-kind\",\n",
    "        \"five-of-a-kind\", \n",
    "        \"six-of-a-kind\"\n",
    "    ]\n",
    "    \n",
    "    \n",
    "    full_combo_keys = [\n",
    "        \"six-of-a-kind\",\n",
    "        \"straight\",\n",
    "        \"three-pairs\",\n",
    "        \"four-and-pair\",\n",
    "        \"triplets\"\n",
    "    ]\n",
    "    \n",
    "    combos = []\n",
    "    \n",
    "    for i in full_combo_keys:\n",
    "        if analyzed_roll[i] == True:\n",
    "            combos.append(i)\n",
    "    if len(combos) == 0:\n",
    "        for i in hi_combo_keys:\n",
    "            if analyzed_roll[i] == True:\n",
    "                combos.append(i)\n",
    "    if len(combos) == 0:\n",
    "        for i in three_combo_keys:\n",
    "            if analyzed_roll[i] == True:\n",
    "                combos.append(i)\n",
    "                \n",
    "    return combos"
   ]
  },
  {
   "cell_type": "code",
   "execution_count": 25,
   "id": "surface-conservative",
   "metadata": {},
   "outputs": [],
   "source": [
    "def gather_singles(analyzed_roll):\n",
    "    single_keys = [\n",
    "        \"one\",\n",
    "        \"five\"\n",
    "    ]\n",
    "    \n",
    "    singles = []\n",
    "    \n",
    "    for i in single_keys:\n",
    "        # drops if triplet present\n",
    "        if 3 > analyzed_roll[i] > 0:\n",
    "            singles.append(i)\n",
    "    \n",
    "    return singles"
   ]
  },
  {
   "cell_type": "code",
   "execution_count": 26,
   "id": "united-special",
   "metadata": {},
   "outputs": [],
   "source": [
    "roll = np.array([5,5,5,1,1,1])\n",
    "ar = analyze_roll.get_scorable(roll)"
   ]
  },
  {
   "cell_type": "code",
   "execution_count": 27,
   "id": "colored-drilling",
   "metadata": {},
   "outputs": [
    {
     "data": {
      "text/plain": [
       "['triplets']"
      ]
     },
     "execution_count": 27,
     "metadata": {},
     "output_type": "execute_result"
    }
   ],
   "source": [
    "gather_combos(ar)"
   ]
  },
  {
   "cell_type": "code",
   "execution_count": 28,
   "id": "determined-ceremony",
   "metadata": {},
   "outputs": [
    {
     "data": {
      "text/plain": [
       "[]"
      ]
     },
     "execution_count": 28,
     "metadata": {},
     "output_type": "execute_result"
    }
   ],
   "source": [
    "gather_singles(ar)"
   ]
  },
  {
   "cell_type": "code",
   "execution_count": 29,
   "id": "anticipated-denial",
   "metadata": {},
   "outputs": [],
   "source": [
    "def count_gathered(analyzed_roll):\n",
    "    gathered_combos = gather_combos(analyzed_roll)\n",
    "    gathered_singles = gather_singles(analyzed_roll)\n",
    "    comb_score = []\n",
    "    sing_score = []\n",
    "    \n",
    "    \n",
    "    if len(gathered_combos)==0 and len(gathered_singles)== 0:\n",
    "        print(\"FARKLE\")\n",
    "    \n",
    "\n",
    "    elif len(gathered_combos) == 0:\n",
    "        for i in gathered_singles:\n",
    "            comb_score.append((i, (p_dict[i] * analyzed_roll[i]), analyzed_roll[i]))\n",
    "        return comb_score\n",
    "\n",
    "    elif len(gathered_singles) == 0:\n",
    "        for i in gathered_combos:\n",
    "            sing_score.append((i, p_dict[i], dice_count[i]))\n",
    "        return sing_score\n",
    "    \n",
    "    else:\n",
    "        for i in gathered_singles:\n",
    "            comb_score.append((i, (p_dict[i] * analyzed_roll[i]), analyzed_roll[i]))\n",
    "        for i in gathered_combos:\n",
    "            sing_score.append((i, p_dict[i], dice_count[i]))\n",
    "        return [comb_score, sing_score]"
   ]
  },
  {
   "cell_type": "code",
   "execution_count": 30,
   "id": "trying-detroit",
   "metadata": {},
   "outputs": [
    {
     "data": {
      "text/plain": [
       "[('triplets', 2500, 6)]"
      ]
     },
     "execution_count": 30,
     "metadata": {},
     "output_type": "execute_result"
    }
   ],
   "source": [
    "count_gathered(ar)"
   ]
  },
  {
   "cell_type": "code",
   "execution_count": null,
   "id": "southeast-knife",
   "metadata": {},
   "outputs": [],
   "source": []
  }
 ],
 "metadata": {
  "kernelspec": {
   "display_name": "Python 3",
   "language": "python",
   "name": "python3"
  },
  "language_info": {
   "codemirror_mode": {
    "name": "ipython",
    "version": 3
   },
   "file_extension": ".py",
   "mimetype": "text/x-python",
   "name": "python",
   "nbconvert_exporter": "python",
   "pygments_lexer": "ipython3",
   "version": "3.8.7"
  }
 },
 "nbformat": 4,
 "nbformat_minor": 5
}

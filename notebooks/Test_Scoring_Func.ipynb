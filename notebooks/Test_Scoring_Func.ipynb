{
 "cells": [
  {
   "cell_type": "code",
   "execution_count": 1,
   "id": "exposed-gabriel",
   "metadata": {},
   "outputs": [],
   "source": [
    "import sys"
   ]
  },
  {
   "cell_type": "code",
   "execution_count": 2,
   "id": "everyday-logging",
   "metadata": {},
   "outputs": [],
   "source": [
    "sys.path.append('/Users/michael/Documents/GitHub/farkle')"
   ]
  },
  {
   "cell_type": "code",
   "execution_count": 3,
   "id": "caring-impression",
   "metadata": {},
   "outputs": [],
   "source": [
    "from farkle_sim import analyze_roll, score_roll"
   ]
  },
  {
   "cell_type": "code",
   "execution_count": 4,
   "id": "automated-sponsorship",
   "metadata": {},
   "outputs": [],
   "source": [
    "import numpy as np"
   ]
  },
  {
   "cell_type": "code",
   "execution_count": 7,
   "id": "requested-basis",
   "metadata": {},
   "outputs": [
    {
     "name": "stdout",
     "output_type": "stream",
     "text": [
      "[5 1 5 3 1 3]\n"
     ]
    }
   ],
   "source": [
    "roll = np.random.randint(1,7,6)\n",
    "print(roll)"
   ]
  },
  {
   "cell_type": "code",
   "execution_count": 8,
   "id": "prospective-penalty",
   "metadata": {},
   "outputs": [
    {
     "data": {
      "text/plain": [
       "{'one': 2,\n",
       " 'five': 2,\n",
       " 'three-ones': False,\n",
       " 'three-twos': False,\n",
       " 'three-threes': False,\n",
       " 'three-fours': False,\n",
       " 'three-fives': False,\n",
       " 'three-sixes': False,\n",
       " 'four-of-a-kind': False,\n",
       " 'three-and-one': False,\n",
       " 'five-of-a-kind': False,\n",
       " 'six-of-a-kind': False,\n",
       " 'straight': False,\n",
       " 'three-pairs': True,\n",
       " 'four-and-pair': False,\n",
       " 'triplets': False}"
      ]
     },
     "execution_count": 8,
     "metadata": {},
     "output_type": "execute_result"
    }
   ],
   "source": [
    "ar = analyze_roll.get_scorable(roll)\n",
    "ar"
   ]
  },
  {
   "cell_type": "code",
   "execution_count": 9,
   "id": "immune-fellow",
   "metadata": {},
   "outputs": [
    {
     "name": "stdout",
     "output_type": "stream",
     "text": [
      "the three-pair case is (2, 2)\n"
     ]
    },
    {
     "data": {
      "text/plain": [
       "[[], [('three-pairs', 1500, 6)]]"
      ]
     },
     "execution_count": 9,
     "metadata": {},
     "output_type": "execute_result"
    }
   ],
   "source": [
    "score_roll.count_gathered(ar)"
   ]
  },
  {
   "cell_type": "code",
   "execution_count": 19,
   "id": "printable-winning",
   "metadata": {},
   "outputs": [],
   "source": [
    "class Player:\n",
    "    def __init__(self):\n",
    "        self.go_first = True\n",
    "        self.turn = 1\n",
    "        self.score = 0\n",
    "        self.roll_num = 1\n",
    "        self.history = []\n",
    "        \n",
    "    def take_turn(self)\n",
    "    "
   ]
  },
  {
   "cell_type": "code",
   "execution_count": 20,
   "id": "relevant-imagination",
   "metadata": {},
   "outputs": [],
   "source": [
    "p1 = Player()"
   ]
  },
  {
   "cell_type": "code",
   "execution_count": 21,
   "id": "noted-minneapolis",
   "metadata": {},
   "outputs": [
    {
     "data": {
      "text/plain": [
       "0"
      ]
     },
     "execution_count": 21,
     "metadata": {},
     "output_type": "execute_result"
    }
   ],
   "source": [
    "p1.score"
   ]
  },
  {
   "cell_type": "code",
   "execution_count": 22,
   "id": "competent-thirty",
   "metadata": {},
   "outputs": [],
   "source": [
    "p1.take_turn()"
   ]
  },
  {
   "cell_type": "code",
   "execution_count": 23,
   "id": "streaming-pharmacology",
   "metadata": {},
   "outputs": [
    {
     "data": {
      "text/plain": [
       "array([5, 4, 5, 4, 1, 2])"
      ]
     },
     "execution_count": 23,
     "metadata": {},
     "output_type": "execute_result"
    }
   ],
   "source": [
    "p1.current_roll"
   ]
  },
  {
   "cell_type": "code",
   "execution_count": 66,
   "id": "appropriate-elite",
   "metadata": {},
   "outputs": [],
   "source": [
    "def roll(num_dice):\n",
    "    roll = np.random.randint(1,7,num_dice)\n",
    "    analyzed_roll = analyze_roll.get_scorable(roll)\n",
    "    scored = score_roll.count_gathered(analyzed_roll)\n",
    "    return scored"
   ]
  },
  {
   "cell_type": "code",
   "execution_count": 67,
   "id": "automated-partition",
   "metadata": {},
   "outputs": [
    {
     "data": {
      "text/plain": [
       "[[], []]"
      ]
     },
     "execution_count": 67,
     "metadata": {},
     "output_type": "execute_result"
    }
   ],
   "source": [
    "roll(3)"
   ]
  },
  {
   "cell_type": "code",
   "execution_count": 255,
   "id": "confirmed-sweet",
   "metadata": {},
   "outputs": [],
   "source": [
    "def parse_hand(hand):\n",
    "    score = 0\n",
    "    num_dice = 6\n",
    "    for i in hand:\n",
    "        for j in i:\n",
    "            score += j[1]\n",
    "            num_dice -= j[2]\n",
    "            if num_dice == 0:\n",
    "                num_dice = 6\n",
    "    return score, num_dice"
   ]
  },
  {
   "cell_type": "code",
   "execution_count": 256,
   "id": "painted-chart",
   "metadata": {},
   "outputs": [],
   "source": [
    "a = roll(6)"
   ]
  },
  {
   "cell_type": "code",
   "execution_count": 257,
   "id": "employed-spectacular",
   "metadata": {},
   "outputs": [
    {
     "data": {
      "text/plain": [
       "[[('one', 100, 1), ('five', 100, 2)], [('three-twos', 200, 3)]]"
      ]
     },
     "execution_count": 257,
     "metadata": {},
     "output_type": "execute_result"
    }
   ],
   "source": [
    "a"
   ]
  },
  {
   "cell_type": "code",
   "execution_count": 258,
   "id": "central-somerset",
   "metadata": {},
   "outputs": [
    {
     "data": {
      "text/plain": [
       "(400, 6)"
      ]
     },
     "execution_count": 258,
     "metadata": {},
     "output_type": "execute_result"
    }
   ],
   "source": [
    "parse_hand(a)"
   ]
  },
  {
   "cell_type": "code",
   "execution_count": 260,
   "id": "severe-absorption",
   "metadata": {},
   "outputs": [],
   "source": [
    "def turn():\n",
    "    alive = True\n",
    "    score = 0\n",
    "    num_dice = 6\n",
    "    while alive:\n",
    "        print(alive, score, num_dice)\n",
    "        a_roll = roll(num_dice)\n",
    "        a_hand = parse_hand(roll)\n",
    "        if len(a_hand) != 0:\n",
    "            score = a_hand[0]\n",
    "            num_dice = a_hand[1]\n",
    "        else:\n",
    "            alive = false\n",
    "    return score"
   ]
  },
  {
   "cell_type": "code",
   "execution_count": 261,
   "id": "several-alexander",
   "metadata": {},
   "outputs": [
    {
     "name": "stdout",
     "output_type": "stream",
     "text": [
      "True 0 6\n",
      "the three-pair case is (0, 2)\n"
     ]
    },
    {
     "ename": "TypeError",
     "evalue": "'function' object is not iterable",
     "output_type": "error",
     "traceback": [
      "\u001b[0;31m---------------------------------------------------------------------------\u001b[0m",
      "\u001b[0;31mTypeError\u001b[0m                                 Traceback (most recent call last)",
      "\u001b[0;32m<ipython-input-261-cd92055b6265>\u001b[0m in \u001b[0;36m<module>\u001b[0;34m\u001b[0m\n\u001b[0;32m----> 1\u001b[0;31m \u001b[0mturn\u001b[0m\u001b[0;34m(\u001b[0m\u001b[0;34m)\u001b[0m\u001b[0;34m\u001b[0m\u001b[0;34m\u001b[0m\u001b[0m\n\u001b[0m",
      "\u001b[0;32m<ipython-input-260-e410d9badef6>\u001b[0m in \u001b[0;36mturn\u001b[0;34m()\u001b[0m\n\u001b[1;32m      6\u001b[0m         \u001b[0mprint\u001b[0m\u001b[0;34m(\u001b[0m\u001b[0malive\u001b[0m\u001b[0;34m,\u001b[0m \u001b[0mscore\u001b[0m\u001b[0;34m,\u001b[0m \u001b[0mnum_dice\u001b[0m\u001b[0;34m)\u001b[0m\u001b[0;34m\u001b[0m\u001b[0;34m\u001b[0m\u001b[0m\n\u001b[1;32m      7\u001b[0m         \u001b[0ma_roll\u001b[0m \u001b[0;34m=\u001b[0m \u001b[0mroll\u001b[0m\u001b[0;34m(\u001b[0m\u001b[0mnum_dice\u001b[0m\u001b[0;34m)\u001b[0m\u001b[0;34m\u001b[0m\u001b[0;34m\u001b[0m\u001b[0m\n\u001b[0;32m----> 8\u001b[0;31m         \u001b[0ma_hand\u001b[0m \u001b[0;34m=\u001b[0m \u001b[0mparse_hand\u001b[0m\u001b[0;34m(\u001b[0m\u001b[0mroll\u001b[0m\u001b[0;34m)\u001b[0m\u001b[0;34m\u001b[0m\u001b[0;34m\u001b[0m\u001b[0m\n\u001b[0m\u001b[1;32m      9\u001b[0m         \u001b[0;32mif\u001b[0m \u001b[0mlen\u001b[0m\u001b[0;34m(\u001b[0m\u001b[0ma_hand\u001b[0m\u001b[0;34m)\u001b[0m \u001b[0;34m!=\u001b[0m \u001b[0;36m0\u001b[0m\u001b[0;34m:\u001b[0m\u001b[0;34m\u001b[0m\u001b[0;34m\u001b[0m\u001b[0m\n\u001b[1;32m     10\u001b[0m             \u001b[0mscore\u001b[0m \u001b[0;34m=\u001b[0m \u001b[0ma_hand\u001b[0m\u001b[0;34m[\u001b[0m\u001b[0;36m0\u001b[0m\u001b[0;34m]\u001b[0m\u001b[0;34m\u001b[0m\u001b[0;34m\u001b[0m\u001b[0m\n",
      "\u001b[0;32m<ipython-input-255-1c8c070b46ed>\u001b[0m in \u001b[0;36mparse_hand\u001b[0;34m(hand)\u001b[0m\n\u001b[1;32m      2\u001b[0m     \u001b[0mscore\u001b[0m \u001b[0;34m=\u001b[0m \u001b[0;36m0\u001b[0m\u001b[0;34m\u001b[0m\u001b[0;34m\u001b[0m\u001b[0m\n\u001b[1;32m      3\u001b[0m     \u001b[0mnum_dice\u001b[0m \u001b[0;34m=\u001b[0m \u001b[0;36m6\u001b[0m\u001b[0;34m\u001b[0m\u001b[0;34m\u001b[0m\u001b[0m\n\u001b[0;32m----> 4\u001b[0;31m     \u001b[0;32mfor\u001b[0m \u001b[0mi\u001b[0m \u001b[0;32min\u001b[0m \u001b[0mhand\u001b[0m\u001b[0;34m:\u001b[0m\u001b[0;34m\u001b[0m\u001b[0;34m\u001b[0m\u001b[0m\n\u001b[0m\u001b[1;32m      5\u001b[0m         \u001b[0;32mfor\u001b[0m \u001b[0mj\u001b[0m \u001b[0;32min\u001b[0m \u001b[0mi\u001b[0m\u001b[0;34m:\u001b[0m\u001b[0;34m\u001b[0m\u001b[0;34m\u001b[0m\u001b[0m\n\u001b[1;32m      6\u001b[0m             \u001b[0mscore\u001b[0m \u001b[0;34m+=\u001b[0m \u001b[0mj\u001b[0m\u001b[0;34m[\u001b[0m\u001b[0;36m1\u001b[0m\u001b[0;34m]\u001b[0m\u001b[0;34m\u001b[0m\u001b[0;34m\u001b[0m\u001b[0m\n",
      "\u001b[0;31mTypeError\u001b[0m: 'function' object is not iterable"
     ]
    }
   ],
   "source": [
    "turn()"
   ]
  },
  {
   "cell_type": "code",
   "execution_count": null,
   "id": "becoming-conspiracy",
   "metadata": {},
   "outputs": [],
   "source": []
  }
 ],
 "metadata": {
  "kernelspec": {
   "display_name": "Python 3",
   "language": "python",
   "name": "python3"
  },
  "language_info": {
   "codemirror_mode": {
    "name": "ipython",
    "version": 3
   },
   "file_extension": ".py",
   "mimetype": "text/x-python",
   "name": "python",
   "nbconvert_exporter": "python",
   "pygments_lexer": "ipython3",
   "version": "3.8.7"
  }
 },
 "nbformat": 4,
 "nbformat_minor": 5
}

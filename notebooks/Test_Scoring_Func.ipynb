{
 "cells": [
  {
   "cell_type": "code",
   "execution_count": 1,
   "id": "exposed-gabriel",
   "metadata": {},
   "outputs": [],
   "source": [
    "import sys"
   ]
  },
  {
   "cell_type": "code",
   "execution_count": 2,
   "id": "everyday-logging",
   "metadata": {},
   "outputs": [],
   "source": [
    "sys.path.append('/Users/michael/Documents/GitHub/farkle')"
   ]
  },
  {
   "cell_type": "code",
   "execution_count": 3,
   "id": "caring-impression",
   "metadata": {},
   "outputs": [],
   "source": [
    "from farkle_sim import analyze_roll, score_roll"
   ]
  },
  {
   "cell_type": "code",
   "execution_count": 4,
   "id": "automated-sponsorship",
   "metadata": {},
   "outputs": [],
   "source": [
    "import numpy as np"
   ]
  },
  {
   "cell_type": "code",
   "execution_count": 5,
   "id": "requested-basis",
   "metadata": {},
   "outputs": [
    {
     "name": "stdout",
     "output_type": "stream",
     "text": [
      "[4 4 5 1 1 6]\n"
     ]
    }
   ],
   "source": [
    "roll = np.random.randint(1,7,6)\n",
    "print(roll)"
   ]
  },
  {
   "cell_type": "code",
   "execution_count": 6,
   "id": "prospective-penalty",
   "metadata": {},
   "outputs": [
    {
     "data": {
      "text/plain": [
       "{'one': 2,\n",
       " 'five': 1,\n",
       " 'three-ones': False,\n",
       " 'three-twos': False,\n",
       " 'three-threes': False,\n",
       " 'three-fours': False,\n",
       " 'three-fives': False,\n",
       " 'three-sixes': False,\n",
       " 'four-of-a-kind': False,\n",
       " 'three-and-one': False,\n",
       " 'five-of-a-kind': False,\n",
       " 'six-of-a-kind': False,\n",
       " 'straight': False,\n",
       " 'three-pairs': False,\n",
       " 'four-and-pair': False,\n",
       " 'triplets': False}"
      ]
     },
     "execution_count": 6,
     "metadata": {},
     "output_type": "execute_result"
    }
   ],
   "source": [
    "ar = analyze_roll.get_scorable(roll)\n",
    "ar"
   ]
  },
  {
   "cell_type": "code",
   "execution_count": 7,
   "id": "immune-fellow",
   "metadata": {},
   "outputs": [
    {
     "data": {
      "text/plain": [
       "[[('one', 200, 2), ('five', 50, 1)], []]"
      ]
     },
     "execution_count": 7,
     "metadata": {},
     "output_type": "execute_result"
    }
   ],
   "source": [
    "score_roll.count_gathered(ar)"
   ]
  },
  {
   "cell_type": "code",
   "execution_count": 8,
   "id": "50b3dd50",
   "metadata": {},
   "outputs": [],
   "source": [
    "def roll(num_dice):\n",
    "    return np.random.randint(1,7,num_dice)"
   ]
  },
  {
   "cell_type": "code",
   "execution_count": 14,
   "id": "ddd3494a",
   "metadata": {},
   "outputs": [],
   "source": [
    "def parse_hand(hand):\n",
    "    score = 0\n",
    "    num_dice = 6\n",
    "    for i in hand:\n",
    "        for j in i:\n",
    "            score += j[1]\n",
    "            num_dice -= j[2]\n",
    "            if num_dice == 0:\n",
    "                num_dice = 6\n",
    "    return score, num_dice"
   ]
  },
  {
   "cell_type": "code",
   "execution_count": 47,
   "id": "e321fc7d",
   "metadata": {},
   "outputs": [],
   "source": [
    "def gen_subscore(roll):\n",
    "    analyzed_roll = analyze_roll.get_scorable(roll)\n",
    "    scored_roll = score_roll.count_gathered(analyzed_roll)\n",
    "    return parse_hand(scored_roll)"
   ]
  },
  {
   "cell_type": "code",
   "execution_count": 27,
   "id": "b3d60322",
   "metadata": {},
   "outputs": [
    {
     "data": {
      "text/plain": [
       "(200, 4)"
      ]
     },
     "execution_count": 27,
     "metadata": {},
     "output_type": "execute_result"
    }
   ],
   "source": [
    "subscore(roll(6))"
   ]
  },
  {
   "cell_type": "code",
   "execution_count": 60,
   "id": "printable-winning",
   "metadata": {},
   "outputs": [],
   "source": [
    "class Player:\n",
    "    def __init__(self):\n",
    "        self.player_order = 1\n",
    "        self.turn = 1\n",
    "        self.accum = 0\n",
    "        self.score = 0\n",
    "        self.roll_num = 1\n",
    "        self.history = []\n",
    "        self.num_dice = 6\n",
    "        self.subscore = 0\n",
    "        \n",
    "    @staticmethod\n",
    "    def reset(self):\n",
    "        self.accum = 0\n",
    "        self.num_dice = 6\n",
    "        \n",
    "    def roll(self):\n",
    "        self.hand = roll(self.num_dice)\n",
    "        \n",
    "    def get_subscore(self):\n",
    "        self.subscore, self.num_dice = gen_subscore(self.hand)\n",
    "        self.accum += self.subscore \n",
    "        \n",
    "    def take_turn(self):\n",
    "        self.roll()\n",
    "        self.get_subscore()\n",
    "        if self.subscore == 0:\n",
    "            print('FARKLE!')\n",
    "            self.turn += 1\n",
    "        elif self.num_dice < 3:\n",
    "            print('STOPPING')\n",
    "            self.score += self.accum\n",
    "        else:\n",
    "            self.take_turn()\n",
    "        self.reset(self)"
   ]
  },
  {
   "cell_type": "code",
   "execution_count": 78,
   "id": "relevant-imagination",
   "metadata": {},
   "outputs": [],
   "source": [
    "p1 = Player()"
   ]
  },
  {
   "cell_type": "code",
   "execution_count": 79,
   "id": "noted-minneapolis",
   "metadata": {},
   "outputs": [
    {
     "data": {
      "text/plain": [
       "0"
      ]
     },
     "execution_count": 79,
     "metadata": {},
     "output_type": "execute_result"
    }
   ],
   "source": [
    "p1.score"
   ]
  },
  {
   "cell_type": "code",
   "execution_count": 80,
   "id": "competent-thirty",
   "metadata": {},
   "outputs": [
    {
     "name": "stdout",
     "output_type": "stream",
     "text": [
      "FARKLE!\n"
     ]
    }
   ],
   "source": [
    "p1.take_turn()"
   ]
  },
  {
   "cell_type": "code",
   "execution_count": 81,
   "id": "streaming-pharmacology",
   "metadata": {},
   "outputs": [
    {
     "data": {
      "text/plain": [
       "0"
      ]
     },
     "execution_count": 81,
     "metadata": {},
     "output_type": "execute_result"
    }
   ],
   "source": [
    "p1.score"
   ]
  },
  {
   "cell_type": "code",
   "execution_count": 9,
   "id": "appropriate-elite",
   "metadata": {},
   "outputs": [],
   "source": [
    "def roll(num_dice):\n",
    "    roll = np.random.randint(1,7,num_dice)\n",
    "    analyzed_roll = analyze_roll.get_scorable(roll)\n",
    "    scored = score_roll.count_gathered(analyzed_roll)\n",
    "    return scored"
   ]
  },
  {
   "cell_type": "code",
   "execution_count": 10,
   "id": "automated-partition",
   "metadata": {},
   "outputs": [
    {
     "data": {
      "text/plain": [
       "[[('one', 100, 1)], []]"
      ]
     },
     "execution_count": 10,
     "metadata": {},
     "output_type": "execute_result"
    }
   ],
   "source": [
    "roll(3)"
   ]
  },
  {
   "cell_type": "code",
   "execution_count": 11,
   "id": "confirmed-sweet",
   "metadata": {},
   "outputs": [],
   "source": [
    "def parse_hand(hand):\n",
    "    score = 0\n",
    "    num_dice = 6\n",
    "    for i in hand:\n",
    "        for j in i:\n",
    "            score += j[1]\n",
    "            num_dice -= j[2]\n",
    "            if num_dice == 0:\n",
    "                num_dice = 6\n",
    "    return score, num_dice"
   ]
  },
  {
   "cell_type": "code",
   "execution_count": 12,
   "id": "painted-chart",
   "metadata": {},
   "outputs": [],
   "source": [
    "a = roll(6)"
   ]
  },
  {
   "cell_type": "code",
   "execution_count": 13,
   "id": "employed-spectacular",
   "metadata": {},
   "outputs": [
    {
     "data": {
      "text/plain": [
       "[[], [('three-pairs', 1500, 6)]]"
      ]
     },
     "execution_count": 13,
     "metadata": {},
     "output_type": "execute_result"
    }
   ],
   "source": [
    "a"
   ]
  },
  {
   "cell_type": "code",
   "execution_count": 14,
   "id": "central-somerset",
   "metadata": {},
   "outputs": [
    {
     "data": {
      "text/plain": [
       "(1500, 6)"
      ]
     },
     "execution_count": 14,
     "metadata": {},
     "output_type": "execute_result"
    }
   ],
   "source": [
    "parse_hand(a)"
   ]
  },
  {
   "cell_type": "code",
   "execution_count": 15,
   "id": "severe-absorption",
   "metadata": {},
   "outputs": [],
   "source": [
    "def turn():\n",
    "    alive = True\n",
    "    score = 0\n",
    "    num_dice = 6\n",
    "    while alive:\n",
    "        print(alive, score, num_dice)\n",
    "        a_roll = roll(num_dice)\n",
    "        a_hand = parse_hand(roll)\n",
    "        if len(a_hand) != 0:\n",
    "            score = a_hand[0]\n",
    "            num_dice = a_hand[1]\n",
    "        else:\n",
    "            alive = false\n",
    "    return score"
   ]
  },
  {
   "cell_type": "code",
   "execution_count": 16,
   "id": "several-alexander",
   "metadata": {},
   "outputs": [
    {
     "name": "stdout",
     "output_type": "stream",
     "text": [
      "True 0 6\n"
     ]
    },
    {
     "ename": "TypeError",
     "evalue": "'function' object is not iterable",
     "output_type": "error",
     "traceback": [
      "\u001b[0;31m---------------------------------------------------------------------------\u001b[0m",
      "\u001b[0;31mTypeError\u001b[0m                                 Traceback (most recent call last)",
      "\u001b[0;32m<ipython-input-16-cd92055b6265>\u001b[0m in \u001b[0;36m<module>\u001b[0;34m\u001b[0m\n\u001b[0;32m----> 1\u001b[0;31m \u001b[0mturn\u001b[0m\u001b[0;34m(\u001b[0m\u001b[0;34m)\u001b[0m\u001b[0;34m\u001b[0m\u001b[0;34m\u001b[0m\u001b[0m\n\u001b[0m",
      "\u001b[0;32m<ipython-input-15-e410d9badef6>\u001b[0m in \u001b[0;36mturn\u001b[0;34m()\u001b[0m\n\u001b[1;32m      6\u001b[0m         \u001b[0mprint\u001b[0m\u001b[0;34m(\u001b[0m\u001b[0malive\u001b[0m\u001b[0;34m,\u001b[0m \u001b[0mscore\u001b[0m\u001b[0;34m,\u001b[0m \u001b[0mnum_dice\u001b[0m\u001b[0;34m)\u001b[0m\u001b[0;34m\u001b[0m\u001b[0;34m\u001b[0m\u001b[0m\n\u001b[1;32m      7\u001b[0m         \u001b[0ma_roll\u001b[0m \u001b[0;34m=\u001b[0m \u001b[0mroll\u001b[0m\u001b[0;34m(\u001b[0m\u001b[0mnum_dice\u001b[0m\u001b[0;34m)\u001b[0m\u001b[0;34m\u001b[0m\u001b[0;34m\u001b[0m\u001b[0m\n\u001b[0;32m----> 8\u001b[0;31m         \u001b[0ma_hand\u001b[0m \u001b[0;34m=\u001b[0m \u001b[0mparse_hand\u001b[0m\u001b[0;34m(\u001b[0m\u001b[0mroll\u001b[0m\u001b[0;34m)\u001b[0m\u001b[0;34m\u001b[0m\u001b[0;34m\u001b[0m\u001b[0m\n\u001b[0m\u001b[1;32m      9\u001b[0m         \u001b[0;32mif\u001b[0m \u001b[0mlen\u001b[0m\u001b[0;34m(\u001b[0m\u001b[0ma_hand\u001b[0m\u001b[0;34m)\u001b[0m \u001b[0;34m!=\u001b[0m \u001b[0;36m0\u001b[0m\u001b[0;34m:\u001b[0m\u001b[0;34m\u001b[0m\u001b[0;34m\u001b[0m\u001b[0m\n\u001b[1;32m     10\u001b[0m             \u001b[0mscore\u001b[0m \u001b[0;34m=\u001b[0m \u001b[0ma_hand\u001b[0m\u001b[0;34m[\u001b[0m\u001b[0;36m0\u001b[0m\u001b[0;34m]\u001b[0m\u001b[0;34m\u001b[0m\u001b[0;34m\u001b[0m\u001b[0m\n",
      "\u001b[0;32m<ipython-input-11-1c8c070b46ed>\u001b[0m in \u001b[0;36mparse_hand\u001b[0;34m(hand)\u001b[0m\n\u001b[1;32m      2\u001b[0m     \u001b[0mscore\u001b[0m \u001b[0;34m=\u001b[0m \u001b[0;36m0\u001b[0m\u001b[0;34m\u001b[0m\u001b[0;34m\u001b[0m\u001b[0m\n\u001b[1;32m      3\u001b[0m     \u001b[0mnum_dice\u001b[0m \u001b[0;34m=\u001b[0m \u001b[0;36m6\u001b[0m\u001b[0;34m\u001b[0m\u001b[0;34m\u001b[0m\u001b[0m\n\u001b[0;32m----> 4\u001b[0;31m     \u001b[0;32mfor\u001b[0m \u001b[0mi\u001b[0m \u001b[0;32min\u001b[0m \u001b[0mhand\u001b[0m\u001b[0;34m:\u001b[0m\u001b[0;34m\u001b[0m\u001b[0;34m\u001b[0m\u001b[0m\n\u001b[0m\u001b[1;32m      5\u001b[0m         \u001b[0;32mfor\u001b[0m \u001b[0mj\u001b[0m \u001b[0;32min\u001b[0m \u001b[0mi\u001b[0m\u001b[0;34m:\u001b[0m\u001b[0;34m\u001b[0m\u001b[0;34m\u001b[0m\u001b[0m\n\u001b[1;32m      6\u001b[0m             \u001b[0mscore\u001b[0m \u001b[0;34m+=\u001b[0m \u001b[0mj\u001b[0m\u001b[0;34m[\u001b[0m\u001b[0;36m1\u001b[0m\u001b[0;34m]\u001b[0m\u001b[0;34m\u001b[0m\u001b[0;34m\u001b[0m\u001b[0m\n",
      "\u001b[0;31mTypeError\u001b[0m: 'function' object is not iterable"
     ]
    }
   ],
   "source": [
    "turn()"
   ]
  },
  {
   "cell_type": "code",
   "execution_count": null,
   "id": "becoming-conspiracy",
   "metadata": {},
   "outputs": [],
   "source": []
  }
 ],
 "metadata": {
  "kernelspec": {
   "display_name": "Python 3",
   "language": "python",
   "name": "python3"
  },
  "language_info": {
   "codemirror_mode": {
    "name": "ipython",
    "version": 3
   },
   "file_extension": ".py",
   "mimetype": "text/x-python",
   "name": "python",
   "nbconvert_exporter": "python",
   "pygments_lexer": "ipython3",
   "version": "3.9.4"
  }
 },
 "nbformat": 4,
 "nbformat_minor": 5
}

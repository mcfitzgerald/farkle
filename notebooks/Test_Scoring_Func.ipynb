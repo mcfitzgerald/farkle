{
 "cells": [
  {
   "cell_type": "code",
   "execution_count": 1,
   "id": "exposed-gabriel",
   "metadata": {},
   "outputs": [],
   "source": [
    "import sys"
   ]
  },
  {
   "cell_type": "code",
   "execution_count": 2,
   "id": "everyday-logging",
   "metadata": {},
   "outputs": [],
   "source": [
    "sys.path.append('/Users/michael/Documents/GitHub/farkle')"
   ]
  },
  {
   "cell_type": "code",
   "execution_count": 3,
   "id": "caring-impression",
   "metadata": {},
   "outputs": [],
   "source": [
    "from farkle_sim import analyze_roll, score_roll"
   ]
  },
  {
   "cell_type": "code",
   "execution_count": 4,
   "id": "automated-sponsorship",
   "metadata": {},
   "outputs": [],
   "source": [
    "import numpy as np"
   ]
  },
  {
   "cell_type": "code",
   "execution_count": 5,
   "id": "requested-basis",
   "metadata": {},
   "outputs": [
    {
     "name": "stdout",
     "output_type": "stream",
     "text": [
      "[2 4 1 5]\n"
     ]
    }
   ],
   "source": [
    "roll = np.random.randint(1,7,4)\n",
    "print(roll)"
   ]
  },
  {
   "cell_type": "code",
   "execution_count": 18,
   "id": "technological-zealand",
   "metadata": {},
   "outputs": [],
   "source": [
    "roll = np.array([1,1,5,2,5,2])"
   ]
  },
  {
   "cell_type": "code",
   "execution_count": 19,
   "id": "prospective-penalty",
   "metadata": {},
   "outputs": [
    {
     "data": {
      "text/plain": [
       "{'one': 2,\n",
       " 'five': 2,\n",
       " 'three-ones': False,\n",
       " 'three-twos': False,\n",
       " 'three-threes': False,\n",
       " 'three-fours': False,\n",
       " 'three-fives': False,\n",
       " 'three-sixes': False,\n",
       " 'four-of-a-kind': False,\n",
       " 'five-of-a-kind': False,\n",
       " 'six-of-a-kind': False,\n",
       " 'straight': False,\n",
       " 'three-pairs': True,\n",
       " 'four-and-pair': False,\n",
       " 'triplets': False}"
      ]
     },
     "execution_count": 19,
     "metadata": {},
     "output_type": "execute_result"
    }
   ],
   "source": [
    "ar = analyze_roll.get_scorable(roll)\n",
    "ar"
   ]
  },
  {
   "cell_type": "code",
   "execution_count": 20,
   "id": "immune-fellow",
   "metadata": {},
   "outputs": [
    {
     "name": "stdout",
     "output_type": "stream",
     "text": [
      "the three-pair case is (2, 2)\n",
      "the single_keys list is []\n"
     ]
    },
    {
     "data": {
      "text/plain": [
       "[[], [('three-pairs', 1500, 6)]]"
      ]
     },
     "execution_count": 20,
     "metadata": {},
     "output_type": "execute_result"
    }
   ],
   "source": [
    "score_roll.count_gathered(ar)"
   ]
  },
  {
   "cell_type": "code",
   "execution_count": 21,
   "id": "adjusted-prisoner",
   "metadata": {},
   "outputs": [
    {
     "name": "stdout",
     "output_type": "stream",
     "text": [
      "the three-pair case is (2, 2)\n"
     ]
    },
    {
     "data": {
      "text/plain": [
       "[]"
      ]
     },
     "execution_count": 21,
     "metadata": {},
     "output_type": "execute_result"
    }
   ],
   "source": [
    "score_roll.handle_three_pair(ar)"
   ]
  },
  {
   "cell_type": "code",
   "execution_count": 22,
   "id": "discrete-object",
   "metadata": {},
   "outputs": [
    {
     "name": "stdout",
     "output_type": "stream",
     "text": [
      "the three-pair case is (2, 2)\n",
      "the single_keys list is []\n"
     ]
    },
    {
     "data": {
      "text/plain": [
       "[]"
      ]
     },
     "execution_count": 22,
     "metadata": {},
     "output_type": "execute_result"
    }
   ],
   "source": [
    "score_roll.gather_singles(ar)"
   ]
  },
  {
   "cell_type": "code",
   "execution_count": null,
   "id": "printable-winning",
   "metadata": {},
   "outputs": [],
   "source": []
  }
 ],
 "metadata": {
  "kernelspec": {
   "display_name": "Python 3",
   "language": "python",
   "name": "python3"
  },
  "language_info": {
   "codemirror_mode": {
    "name": "ipython",
    "version": 3
   },
   "file_extension": ".py",
   "mimetype": "text/x-python",
   "name": "python",
   "nbconvert_exporter": "python",
   "pygments_lexer": "ipython3",
   "version": "3.8.7"
  }
 },
 "nbformat": 4,
 "nbformat_minor": 5
}

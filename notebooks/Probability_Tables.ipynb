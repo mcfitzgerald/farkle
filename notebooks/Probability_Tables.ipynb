{
 "cells": [
  {
   "cell_type": "code",
   "execution_count": 8,
   "id": "accurate-deficit",
   "metadata": {},
   "outputs": [],
   "source": [
    "import sys\n",
    "import numpy as np"
   ]
  },
  {
   "cell_type": "code",
   "execution_count": 9,
   "id": "incorrect-friendship",
   "metadata": {},
   "outputs": [],
   "source": [
    "sys.path.append('/Users/michael/Documents/GitHub/farkle')"
   ]
  },
  {
   "cell_type": "code",
   "execution_count": 10,
   "id": "generic-friendship",
   "metadata": {},
   "outputs": [],
   "source": [
    "from farkle_sim import analyze_roll, score_roll"
   ]
  },
  {
   "cell_type": "code",
   "execution_count": 11,
   "id": "accepting-slovak",
   "metadata": {},
   "outputs": [],
   "source": [
    "import itertools"
   ]
  },
  {
   "cell_type": "code",
   "execution_count": 12,
   "id": "smart-raising",
   "metadata": {},
   "outputs": [],
   "source": [
    "def parse_hand(hand):\n",
    "    score = 0\n",
    "    num_dice = 6\n",
    "    for i in hand:\n",
    "        for j in i:\n",
    "            score += j[1]\n",
    "            num_dice -= j[2]\n",
    "            if num_dice == 0:\n",
    "                num_dice = 6\n",
    "    return score, num_dice"
   ]
  },
  {
   "cell_type": "code",
   "execution_count": 13,
   "id": "ordinary-chuck",
   "metadata": {},
   "outputs": [],
   "source": [
    "def get_prob(num_dice):\n",
    "    comb = itertools.combinations_with_replacement([1,2,3,4,5,6],num_dice)\n",
    "    comb_list = [np.array(i) for i in comb]\n",
    "    comb_analyzed = [analyze_roll.get_scorable(i) for i in comb_list]\n",
    "    comb_scored = [score_roll.count_gathered(i) for i in comb_analyzed]\n",
    "    parsed = [parse_hand(i) for i in comb_scored]\n",
    "    \n",
    "    farkles = []\n",
    "    for i,j in enumerate(parsed):\n",
    "        if j[0] == 0:\n",
    "            farkles.append((comb_list[i],j))\n",
    "        \n",
    "    odds = len(farkles)/len(comb_list)\n",
    "    \n",
    "    return odds, len(comb_list)"
   ]
  },
  {
   "cell_type": "code",
   "execution_count": 40,
   "id": "f26130f7",
   "metadata": {},
   "outputs": [],
   "source": [
    "p_comb = itertools.combinations_with_replacement([1,2,3,4,5,6],2)"
   ]
  },
  {
   "cell_type": "code",
   "execution_count": 41,
   "id": "310589ca",
   "metadata": {},
   "outputs": [],
   "source": [
    "combs = [np.array(i) for i in p_comb]"
   ]
  },
  {
   "cell_type": "code",
   "execution_count": 42,
   "id": "2d36521f",
   "metadata": {},
   "outputs": [
    {
     "data": {
      "text/plain": [
       "array([1, 1])"
      ]
     },
     "execution_count": 42,
     "metadata": {},
     "output_type": "execute_result"
    }
   ],
   "source": [
    "combs[0]"
   ]
  },
  {
   "cell_type": "code",
   "execution_count": 48,
   "id": "37aadc1d",
   "metadata": {},
   "outputs": [
    {
     "data": {
      "text/plain": [
       "(0, 6)"
      ]
     },
     "execution_count": 48,
     "metadata": {},
     "output_type": "execute_result"
    }
   ],
   "source": [
    "parse_hand(score_roll.count_gathered(analyze_roll.get_scorable(combs[7])))"
   ]
  },
  {
   "cell_type": "code",
   "execution_count": 47,
   "id": "4a0dfdd9",
   "metadata": {},
   "outputs": [
    {
     "data": {
      "text/plain": [
       "[array([1, 1]),\n",
       " array([1, 2]),\n",
       " array([1, 3]),\n",
       " array([1, 4]),\n",
       " array([1, 5]),\n",
       " array([1, 6]),\n",
       " array([2, 2]),\n",
       " array([2, 3]),\n",
       " array([2, 4]),\n",
       " array([2, 5]),\n",
       " array([2, 6]),\n",
       " array([3, 3]),\n",
       " array([3, 4]),\n",
       " array([3, 5]),\n",
       " array([3, 6]),\n",
       " array([4, 4]),\n",
       " array([4, 5]),\n",
       " array([4, 6]),\n",
       " array([5, 5]),\n",
       " array([5, 6]),\n",
       " array([6, 6])]"
      ]
     },
     "execution_count": 47,
     "metadata": {},
     "output_type": "execute_result"
    }
   ],
   "source": [
    "combs"
   ]
  },
  {
   "cell_type": "code",
   "execution_count": null,
   "id": "87d393a1",
   "metadata": {},
   "outputs": [],
   "source": []
  },
  {
   "cell_type": "code",
   "execution_count": 7,
   "id": "utility-height",
   "metadata": {},
   "outputs": [
    {
     "data": {
      "text/plain": [
       "[(0.6666666666666666, 6),\n",
       " (0.47619047619047616, 21),\n",
       " (0.2857142857142857, 56),\n",
       " (0.15079365079365079, 126),\n",
       " (0.06349206349206349, 252),\n",
       " (0.012987012987012988, 462)]"
      ]
     },
     "execution_count": 7,
     "metadata": {},
     "output_type": "execute_result"
    }
   ],
   "source": [
    "[get_prob(i) for i in range(1,7)]"
   ]
  },
  {
   "cell_type": "code",
   "execution_count": null,
   "id": "formed-karaoke",
   "metadata": {},
   "outputs": [],
   "source": []
  }
 ],
 "metadata": {
  "kernelspec": {
   "display_name": "Python 3",
   "language": "python",
   "name": "python3"
  },
  "language_info": {
   "codemirror_mode": {
    "name": "ipython",
    "version": 3
   },
   "file_extension": ".py",
   "mimetype": "text/x-python",
   "name": "python",
   "nbconvert_exporter": "python",
   "pygments_lexer": "ipython3",
   "version": "3.9.4"
  }
 },
 "nbformat": 4,
 "nbformat_minor": 5
}

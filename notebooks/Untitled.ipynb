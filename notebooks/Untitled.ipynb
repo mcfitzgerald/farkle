{
 "cells": [
  {
   "cell_type": "code",
   "execution_count": 1,
   "id": "solid-associate",
   "metadata": {},
   "outputs": [],
   "source": [
    "import numpy as np"
   ]
  },
  {
   "cell_type": "code",
   "execution_count": 2,
   "id": "logical-vitamin",
   "metadata": {},
   "outputs": [],
   "source": [
    "np.random.seed(13)"
   ]
  },
  {
   "cell_type": "code",
   "execution_count": 80,
   "id": "separated-spyware",
   "metadata": {},
   "outputs": [],
   "source": [
    "roll = np.random.randint(1,7,6)"
   ]
  },
  {
   "cell_type": "code",
   "execution_count": 81,
   "id": "broken-addiction",
   "metadata": {},
   "outputs": [
    {
     "data": {
      "text/plain": [
       "array([3, 1, 5, 4, 1, 5])"
      ]
     },
     "execution_count": 81,
     "metadata": {},
     "output_type": "execute_result"
    }
   ],
   "source": [
    "roll"
   ]
  },
  {
   "cell_type": "code",
   "execution_count": 82,
   "id": "turkish-pacific",
   "metadata": {},
   "outputs": [
    {
     "data": {
      "text/plain": [
       "0"
      ]
     },
     "execution_count": 82,
     "metadata": {},
     "output_type": "execute_result"
    }
   ],
   "source": [
    "np.sum(roll == 6)"
   ]
  },
  {
   "cell_type": "code",
   "execution_count": 83,
   "id": "effective-clothing",
   "metadata": {},
   "outputs": [],
   "source": [
    "def count_roll(roll):\n",
    "    return np.array([np.sum(roll == i) for i in range(1,7)])"
   ]
  },
  {
   "cell_type": "code",
   "execution_count": 84,
   "id": "mounted-choice",
   "metadata": {},
   "outputs": [],
   "source": [
    "counts = count_roll(roll)"
   ]
  },
  {
   "cell_type": "code",
   "execution_count": 85,
   "id": "accepted-specification",
   "metadata": {},
   "outputs": [
    {
     "data": {
      "text/plain": [
       "array([2, 0, 1, 1, 2, 0])"
      ]
     },
     "execution_count": 85,
     "metadata": {},
     "output_type": "execute_result"
    }
   ],
   "source": [
    "counts"
   ]
  },
  {
   "cell_type": "code",
   "execution_count": 60,
   "id": "basic-necklace",
   "metadata": {},
   "outputs": [
    {
     "data": {
      "text/plain": [
       "1"
      ]
     },
     "execution_count": 60,
     "metadata": {},
     "output_type": "execute_result"
    }
   ],
   "source": [
    "np.where(counts==3)[0].size"
   ]
  },
  {
   "cell_type": "code",
   "execution_count": 27,
   "id": "packed-reason",
   "metadata": {},
   "outputs": [],
   "source": [
    "vals = [1,2,3,4,5,6]"
   ]
  },
  {
   "cell_type": "code",
   "execution_count": 61,
   "id": "pleasant-spencer",
   "metadata": {},
   "outputs": [],
   "source": [
    "mix_vals = [2,4,5,3,1,6]"
   ]
  },
  {
   "cell_type": "code",
   "execution_count": 63,
   "id": "peaceful-shame",
   "metadata": {},
   "outputs": [
    {
     "data": {
      "text/plain": [
       "True"
      ]
     },
     "execution_count": 63,
     "metadata": {},
     "output_type": "execute_result"
    }
   ],
   "source": [
    "set(vals) == set(mix_vals)"
   ]
  },
  {
   "cell_type": "code",
   "execution_count": 64,
   "id": "extensive-amplifier",
   "metadata": {},
   "outputs": [],
   "source": [
    "vals_arr = np.array([1,2,3,4,5,6])"
   ]
  },
  {
   "cell_type": "code",
   "execution_count": 65,
   "id": "acoustic-annotation",
   "metadata": {},
   "outputs": [],
   "source": [
    "test_straight = np.array([1,3,4,6,5,2])"
   ]
  },
  {
   "cell_type": "code",
   "execution_count": 67,
   "id": "dated-thomson",
   "metadata": {},
   "outputs": [
    {
     "data": {
      "text/plain": [
       "True"
      ]
     },
     "execution_count": 67,
     "metadata": {},
     "output_type": "execute_result"
    }
   ],
   "source": [
    "np.in1d(test_straight,vals_arr).all()"
   ]
  },
  {
   "cell_type": "code",
   "execution_count": 97,
   "id": "consecutive-guyana",
   "metadata": {},
   "outputs": [],
   "source": [
    "threepair = np.array([1,1,1,1,3,3])"
   ]
  },
  {
   "cell_type": "code",
   "execution_count": 100,
   "id": "engaged-thread",
   "metadata": {},
   "outputs": [
    {
     "data": {
      "text/plain": [
       "1"
      ]
     },
     "execution_count": 100,
     "metadata": {},
     "output_type": "execute_result"
    }
   ],
   "source": [
    "(count_roll(threepair) == 2).sum()"
   ]
  },
  {
   "cell_type": "code",
   "execution_count": 101,
   "id": "cross-cannon",
   "metadata": {},
   "outputs": [
    {
     "data": {
      "text/plain": [
       "1"
      ]
     },
     "execution_count": 101,
     "metadata": {},
     "output_type": "execute_result"
    }
   ],
   "source": [
    "(count_roll(threepair) == 4).sum()"
   ]
  },
  {
   "cell_type": "code",
   "execution_count": null,
   "id": "graduate-column",
   "metadata": {},
   "outputs": [],
   "source": [
    "rol"
   ]
  },
  {
   "cell_type": "code",
   "execution_count": 69,
   "id": "younger-fellow",
   "metadata": {},
   "outputs": [
    {
     "data": {
      "text/plain": [
       "array([4])"
      ]
     },
     "execution_count": 69,
     "metadata": {},
     "output_type": "execute_result"
    }
   ],
   "source": [
    "np.extract((counts==3),vals_arr)"
   ]
  },
  {
   "cell_type": "code",
   "execution_count": 128,
   "id": "surrounded-vinyl",
   "metadata": {},
   "outputs": [],
   "source": [
    "def get_scorable(roll):\n",
    "    '''\n",
    "    takes numpy array of counted simulated roll and returns dict\n",
    "    '''\n",
    "    counted_roll = count_roll(roll)\n",
    "    \n",
    "    scorable = {}\n",
    "    \n",
    "    # single dice\n",
    "    scorable['one'] = counted_roll[0] #count of ones in first (0 index) position\n",
    "    scorable['five'] = counted_roll[4] #count of fives in fifth (4 index) position\n",
    "    \n",
    "    \n",
    "    # 3 of a kind\n",
    "    tok_keys = [\"three-ones\",\"three-twos\",\"three-threes\",\"three-fours\",\"three-fives\",\"three-sixes\"]\n",
    "    tok_array = counted_roll==3\n",
    "    for i in range(0,6):\n",
    "        scorable[tok_keys[i]] = tok_array[i]\n",
    "        \n",
    "    \n",
    "    # combos\n",
    "    cmb_keys = [\"four-of-a-kind\",\"five-of-a-kind\",\"six-of-a-kind\",\"straight\",\"three-pairs\",\"four-and-pair\",\"triplets\"]\n",
    "    straight_array = np.array([1,2,3,4,5,6])\n",
    "    \n",
    "    scorable[\"four-of-a-kind\"] = (counted_roll==4).any()\n",
    "    scorable[\"five-of-a-kind\"] = (counted_roll==5).any()\n",
    "    scorable[\"six-of-a-kind\"] = (counted_roll==6).any()\n",
    "    scorable[\"straight\"] = np.isin(straight_array,roll).all()\n",
    "    scorable[\"three-pairs\"] = ((counted_roll==2).sum()==3)\n",
    "    scorable[\"four-and-pair\"] = ((counted_roll == 4).any() and (counted_roll == 2).any())\n",
    "    scorable[\"triplets\"] = ((counted_roll==3).sum()==2)\n",
    "    \n",
    "    return scorable\n",
    "    "
   ]
  },
  {
   "cell_type": "code",
   "execution_count": 131,
   "id": "subtle-instrument",
   "metadata": {},
   "outputs": [
    {
     "data": {
      "text/plain": [
       "{'one': 1,\n",
       " 'five': 1,\n",
       " 'three-ones': False,\n",
       " 'three-twos': False,\n",
       " 'three-threes': False,\n",
       " 'three-fours': False,\n",
       " 'three-fives': False,\n",
       " 'three-sixes': False,\n",
       " 'four-of-a-kind': False,\n",
       " 'five-of-a-kind': False,\n",
       " 'six-of-a-kind': False,\n",
       " 'straight': True,\n",
       " 'three-pairs': False,\n",
       " 'four-and-pair': False,\n",
       " 'triplets': False}"
      ]
     },
     "execution_count": 131,
     "metadata": {},
     "output_type": "execute_result"
    }
   ],
   "source": [
    "get_scorable(np.array([1,2,3,4,5,6]))"
   ]
  },
  {
   "cell_type": "code",
   "execution_count": null,
   "id": "representative-shadow",
   "metadata": {},
   "outputs": [],
   "source": []
  }
 ],
 "metadata": {
  "kernelspec": {
   "display_name": "Python 3",
   "language": "python",
   "name": "python3"
  },
  "language_info": {
   "codemirror_mode": {
    "name": "ipython",
    "version": 3
   },
   "file_extension": ".py",
   "mimetype": "text/x-python",
   "name": "python",
   "nbconvert_exporter": "python",
   "pygments_lexer": "ipython3",
   "version": "3.8.7"
  }
 },
 "nbformat": 4,
 "nbformat_minor": 5
}

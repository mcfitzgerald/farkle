{
 "cells": [
  {
   "cell_type": "code",
   "execution_count": 1,
   "id": "exposed-gabriel",
   "metadata": {},
   "outputs": [],
   "source": [
    "import sys"
   ]
  },
  {
   "cell_type": "code",
   "execution_count": 2,
   "id": "everyday-logging",
   "metadata": {},
   "outputs": [],
   "source": [
    "sys.path.append('/Users/michael/Documents/GitHub/farkle')"
   ]
  },
  {
   "cell_type": "code",
   "execution_count": 3,
   "id": "caring-impression",
   "metadata": {},
   "outputs": [],
   "source": [
    "from farkle_sim import analyze_roll, score_roll"
   ]
  },
  {
   "cell_type": "code",
   "execution_count": 4,
   "id": "automated-sponsorship",
   "metadata": {},
   "outputs": [],
   "source": [
    "import numpy as np"
   ]
  },
  {
   "cell_type": "code",
   "execution_count": 5,
   "id": "requested-basis",
   "metadata": {},
   "outputs": [],
   "source": [
    "roll = np.array([1, 1, 5, 5, 2, 2])"
   ]
  },
  {
   "cell_type": "code",
   "execution_count": 6,
   "id": "prospective-penalty",
   "metadata": {},
   "outputs": [],
   "source": [
    "ar = analyze_roll.get_scorable(roll)"
   ]
  },
  {
   "cell_type": "code",
   "execution_count": 7,
   "id": "young-evanescence",
   "metadata": {},
   "outputs": [
    {
     "data": {
      "text/plain": [
       "{'one': 2,\n",
       " 'five': 2,\n",
       " 'three-ones': False,\n",
       " 'three-twos': False,\n",
       " 'three-threes': False,\n",
       " 'three-fours': False,\n",
       " 'three-fives': False,\n",
       " 'three-sixes': False,\n",
       " 'four-of-a-kind': False,\n",
       " 'five-of-a-kind': False,\n",
       " 'six-of-a-kind': False,\n",
       " 'straight': False,\n",
       " 'three-pairs': True,\n",
       " 'four-and-pair': False,\n",
       " 'triplets': False}"
      ]
     },
     "execution_count": 7,
     "metadata": {},
     "output_type": "execute_result"
    }
   ],
   "source": [
    "ar"
   ]
  },
  {
   "cell_type": "code",
   "execution_count": 8,
   "id": "immune-fellow",
   "metadata": {},
   "outputs": [],
   "source": [
    "sr = score_roll.count_gathered(ar)"
   ]
  },
  {
   "cell_type": "code",
   "execution_count": 9,
   "id": "earned-edinburgh",
   "metadata": {},
   "outputs": [
    {
     "data": {
      "text/plain": [
       "[[], [('three-pairs', 1500, 6)]]"
      ]
     },
     "execution_count": 9,
     "metadata": {},
     "output_type": "execute_result"
    }
   ],
   "source": [
    "sr"
   ]
  },
  {
   "cell_type": "code",
   "execution_count": 10,
   "id": "several-bottom",
   "metadata": {},
   "outputs": [
    {
     "data": {
      "text/plain": [
       "['three-pairs']"
      ]
     },
     "execution_count": 10,
     "metadata": {},
     "output_type": "execute_result"
    }
   ],
   "source": [
    "score_roll.gather_combos(ar)"
   ]
  },
  {
   "cell_type": "code",
   "execution_count": 11,
   "id": "mental-humor",
   "metadata": {},
   "outputs": [
    {
     "data": {
      "text/plain": [
       "{'one': 2,\n",
       " 'five': 2,\n",
       " 'three-ones': False,\n",
       " 'three-twos': False,\n",
       " 'three-threes': False,\n",
       " 'three-fours': False,\n",
       " 'three-fives': False,\n",
       " 'three-sixes': False,\n",
       " 'four-of-a-kind': False,\n",
       " 'five-of-a-kind': False,\n",
       " 'six-of-a-kind': False,\n",
       " 'straight': False,\n",
       " 'three-pairs': True,\n",
       " 'four-and-pair': False,\n",
       " 'triplets': False}"
      ]
     },
     "execution_count": 11,
     "metadata": {},
     "output_type": "execute_result"
    }
   ],
   "source": [
    "ar"
   ]
  },
  {
   "cell_type": "code",
   "execution_count": null,
   "id": "electrical-consolidation",
   "metadata": {},
   "outputs": [],
   "source": []
  }
 ],
 "metadata": {
  "kernelspec": {
   "display_name": "Python 3",
   "language": "python",
   "name": "python3"
  },
  "language_info": {
   "codemirror_mode": {
    "name": "ipython",
    "version": 3
   },
   "file_extension": ".py",
   "mimetype": "text/x-python",
   "name": "python",
   "nbconvert_exporter": "python",
   "pygments_lexer": "ipython3",
   "version": "3.8.7"
  }
 },
 "nbformat": 4,
 "nbformat_minor": 5
}

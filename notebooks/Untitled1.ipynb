{
 "cells": [
  {
   "cell_type": "code",
   "execution_count": 1,
   "id": "innocent-prime",
   "metadata": {},
   "outputs": [],
   "source": [
    "import numpy as np"
   ]
  },
  {
   "cell_type": "code",
   "execution_count": 2,
   "id": "hazardous-spencer",
   "metadata": {},
   "outputs": [],
   "source": [
    "import itertools"
   ]
  },
  {
   "cell_type": "code",
   "execution_count": 24,
   "id": "upset-master",
   "metadata": {},
   "outputs": [],
   "source": [
    "a = itertools.combinations_with_replacement([1,2,3,4,5,6],6)"
   ]
  },
  {
   "cell_type": "code",
   "execution_count": 25,
   "id": "choice-wildlife",
   "metadata": {},
   "outputs": [],
   "source": [
    "all_6combs = [np.array(i) for i in a]"
   ]
  },
  {
   "cell_type": "code",
   "execution_count": 26,
   "id": "charming-enlargement",
   "metadata": {},
   "outputs": [
    {
     "data": {
      "text/plain": [
       "462"
      ]
     },
     "execution_count": 26,
     "metadata": {},
     "output_type": "execute_result"
    }
   ],
   "source": [
    "len(all_6combs)"
   ]
  },
  {
   "cell_type": "code",
   "execution_count": 27,
   "id": "pleased-european",
   "metadata": {},
   "outputs": [
    {
     "data": {
      "text/plain": [
       "array([1, 1, 1, 1, 1, 1])"
      ]
     },
     "execution_count": 27,
     "metadata": {},
     "output_type": "execute_result"
    }
   ],
   "source": [
    "all_6combs[0]"
   ]
  },
  {
   "cell_type": "code",
   "execution_count": null,
   "id": "ceramic-juice",
   "metadata": {},
   "outputs": [],
   "source": []
  }
 ],
 "metadata": {
  "kernelspec": {
   "display_name": "Python 3",
   "language": "python",
   "name": "python3"
  },
  "language_info": {
   "codemirror_mode": {
    "name": "ipython",
    "version": 3
   },
   "file_extension": ".py",
   "mimetype": "text/x-python",
   "name": "python",
   "nbconvert_exporter": "python",
   "pygments_lexer": "ipython3",
   "version": "3.8.7"
  }
 },
 "nbformat": 4,
 "nbformat_minor": 5
}
